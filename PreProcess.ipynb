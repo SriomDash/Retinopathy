{
 "cells": [
  {
   "cell_type": "code",
   "execution_count": 1,
   "metadata": {},
   "outputs": [
    {
     "name": "stdout",
     "output_type": "stream",
     "text": [
      "Python 3.10.16\n"
     ]
    }
   ],
   "source": [
    "!python --version"
   ]
  },
  {
   "cell_type": "code",
   "execution_count": 2,
   "metadata": {},
   "outputs": [
    {
     "name": "stdout",
     "output_type": "stream",
     "text": [
      "Requirement already satisfied: opencv-python in c:\\users\\hp\\.conda\\envs\\my_env\\lib\\site-packages (4.11.0.86)\n",
      "Requirement already satisfied: numpy>=1.21.2 in c:\\users\\hp\\.conda\\envs\\my_env\\lib\\site-packages (from opencv-python) (1.26.4)\n"
     ]
    }
   ],
   "source": [
    "!pip install opencv-python\n"
   ]
  },
  {
   "cell_type": "code",
   "execution_count": 3,
   "metadata": {},
   "outputs": [],
   "source": [
    "import os \n",
    "import cv2\n",
    "import matplotlib.pyplot as plt\n",
    "import numpy as np\n",
    "import pandas as pd \n"
   ]
  },
  {
   "cell_type": "code",
   "execution_count": 4,
   "metadata": {},
   "outputs": [],
   "source": [
    "img = cv2.imread(\"train_images/0abf0c485f66.png\", cv2.IMREAD_COLOR)"
   ]
  },
  {
   "cell_type": "code",
   "execution_count": 5,
   "metadata": {},
   "outputs": [
    {
     "data": {
      "text/plain": [
       "-1"
      ]
     },
     "execution_count": 5,
     "metadata": {},
     "output_type": "execute_result"
    }
   ],
   "source": [
    "cv2.imshow('Image',img)\n",
    "cv2.waitKey(0)"
   ]
  },
  {
   "cell_type": "code",
   "execution_count": 6,
   "metadata": {},
   "outputs": [
    {
     "name": "stdout",
     "output_type": "stream",
     "text": [
      "Width: 2048, Height: 1536, Channels: 3\n"
     ]
    }
   ],
   "source": [
    "height, width, channels = img.shape\n",
    "\n",
    "print(f\"Width: {width}, Height: {height}, Channels: {channels}\")"
   ]
  },
  {
   "cell_type": "code",
   "execution_count": 7,
   "metadata": {},
   "outputs": [],
   "source": [
    "from dotenv import load_dotenv\n",
    "\n",
    "load_dotenv()\n",
    "\n",
    "TRAIN_IMAGE_PATH = os.getenv('TRAIN_IMAGES')\n",
    "TEST_IMAGE_PATH = os.getenv('TEST_IMAGES')"
   ]
  },
  {
   "cell_type": "code",
   "execution_count": 8,
   "metadata": {},
   "outputs": [
    {
     "name": "stdout",
     "output_type": "stream",
     "text": [
      "Train Image Count :  3662\n"
     ]
    }
   ],
   "source": [
    "\n",
    "all_files = os.listdir(TRAIN_IMAGE_PATH)\n",
    "\n",
    "\n",
    "image_extensions = (\".jpg\", \".jpeg\", \".png\", \".bmp\", \".tiff\", \".gif\")\n",
    "\n",
    "\n",
    "train_image_count = 0\n",
    "for file in all_files:\n",
    "    if file.lower().endswith(image_extensions):\n",
    "        train_image_count += 1\n",
    "        \n",
    "print(\"Train Image Count : \",train_image_count)\n"
   ]
  },
  {
   "cell_type": "code",
   "execution_count": 9,
   "metadata": {},
   "outputs": [
    {
     "name": "stdout",
     "output_type": "stream",
     "text": [
      "Test Image Count :  1928\n"
     ]
    }
   ],
   "source": [
    "\n",
    "all_files = os.listdir(TEST_IMAGE_PATH)\n",
    "\n",
    "\n",
    "image_extensions = (\".jpg\", \".jpeg\", \".png\", \".bmp\", \".tiff\", \".gif\")\n",
    "\n",
    "\n",
    "test_image_count = 0\n",
    "for file in all_files:\n",
    "    if file.lower().endswith(image_extensions):\n",
    "        test_image_count += 1\n",
    "        \n",
    "print(\"Test Image Count : \",test_image_count)\n"
   ]
  },
  {
   "cell_type": "code",
   "execution_count": 10,
   "metadata": {},
   "outputs": [
    {
     "name": "stdout",
     "output_type": "stream",
     "text": [
      "Image Type Count: {'JPG': 0, 'JPEG': 0, 'PNG': 5590}\n"
     ]
    }
   ],
   "source": [
    "image_type_count = {'JPG': 0, 'JPEG': 0, 'PNG': 0}\n",
    "\n",
    "def count_images(directory):\n",
    "    all_files = os.listdir(directory)\n",
    "    for file in all_files:\n",
    "        file_lower = file.lower()\n",
    "        if file_lower.endswith('.jpg'):\n",
    "            image_type_count['JPG'] += 1\n",
    "        elif file_lower.endswith('.jpeg'):\n",
    "            image_type_count['JPEG'] += 1\n",
    "        elif file_lower.endswith('.png'):\n",
    "            image_type_count['PNG'] += 1\n",
    "\n",
    "\n",
    "count_images(TRAIN_IMAGE_PATH)\n",
    "count_images(TEST_IMAGE_PATH)\n",
    "\n",
    "\n",
    "print(\"Image Type Count:\", image_type_count)\n"
   ]
  },
  {
   "cell_type": "code",
   "execution_count": 11,
   "metadata": {},
   "outputs": [
    {
     "data": {
      "image/png": "[encoded data removed]",
      "text/plain": [
       "<Figure size 600x400 with 1 Axes>"
      ]
     },
     "metadata": {},
     "output_type": "display_data"
    }
   ],
   "source": [
    "plt.figure(figsize=(6, 4))\n",
    "plt.bar(image_type_count.keys(), image_type_count.values(), color=['blue', 'orange', 'green'])\n",
    "\n",
    "\n",
    "plt.xlabel(\"Image Type\")\n",
    "plt.ylabel(\"Count\")\n",
    "plt.title(\"Image Type Distribution\")\n",
    "plt.show()"
   ]
  },
  {
   "cell_type": "code",
   "execution_count": 12,
   "metadata": {},
   "outputs": [],
   "source": [
    "def calculate_width(image_directory):\n",
    "    image_widths = {}\n",
    "    image_files = [f for f in os.listdir(image_directory) if \n",
    "                   f.lower().endswith(('.jpg', '.jpeg', '.png'))]\n",
    "    \n",
    "    for image_file in image_files:\n",
    "        image_path = os.path.join(image_directory, image_file)\n",
    "        img = cv2.imread(image_path)\n",
    "        if img is not None:\n",
    "            image_widths[image_file] = img.shape[1]  # Width of image\n",
    "\n",
    "    return image_widths\n",
    "\n",
    "\n",
    "train_widths = calculate_width(TRAIN_IMAGE_PATH)\n",
    "test_widths = calculate_width(TEST_IMAGE_PATH)\n",
    "\n",
    "\n",
    "all_widths = {**train_widths, **test_widths}\n",
    "sorted_files = sorted(all_widths, key=all_widths.get)  \n",
    "sorted_widths = [all_widths[file] for file in sorted_files]\n",
    "\n"
   ]
  },
  {
   "cell_type": "code",
   "execution_count": 13,
   "metadata": {},
   "outputs": [
    {
     "data": {
      "image/png": "[encoded data removed]",
      "text/plain": [
       "<Figure size 800x600 with 1 Axes>"
      ]
     },
     "metadata": {},
     "output_type": "display_data"
    }
   ],
   "source": [
    "plt.figure(figsize=(8, 6))\n",
    "plt.hist(sorted_widths, bins=10, color='orange', edgecolor='black', alpha=0.7)\n",
    "\n",
    "plt.xlabel(\"Width (Pixels)\")\n",
    "plt.ylabel(\"Frequency\")\n",
    "plt.title(\"Distribution of Image Widths\")\n",
    "plt.grid(axis='y', linestyle=\"--\", alpha=0.7)\n",
    "\n",
    "plt.show()\n"
   ]
  },
  {
   "cell_type": "code",
   "execution_count": 14,
   "metadata": {},
   "outputs": [],
   "source": [
    "def calculate_height(image_directory):\n",
    "    image_height = {}\n",
    "    image_files = [f for f in os.listdir(image_directory) if \n",
    "                   f.lower().endswith(('.jpg', '.jpeg', '.png'))]\n",
    "    \n",
    "    for image_file in image_files:\n",
    "        image_path = os.path.join(image_directory, image_file)\n",
    "        img = cv2.imread(image_path)\n",
    "        if img is not None:\n",
    "            image_height[image_file] = img.shape[0]  \n",
    "\n",
    "    return image_height\n",
    "\n",
    "\n",
    "train_heights = calculate_height(TRAIN_IMAGE_PATH)\n",
    "test_heights = calculate_height(TEST_IMAGE_PATH)\n",
    "\n",
    "\n",
    "all_heights = {**train_heights, **test_heights}\n",
    "sorted_files = sorted(all_heights, key=all_heights.get)  \n",
    "sorted_height = [all_heights[file] for file in sorted_files]\n",
    "\n"
   ]
  },
  {
   "cell_type": "code",
   "execution_count": 15,
   "metadata": {},
   "outputs": [
    {
     "data": {
      "image/png": "[encoded data removed]",
      "text/plain": [
       "<Figure size 800x600 with 1 Axes>"
      ]
     },
     "metadata": {},
     "output_type": "display_data"
    }
   ],
   "source": [
    "plt.figure(figsize=(8, 6))\n",
    "plt.hist(sorted_height, bins=10, color='blue', edgecolor='black', alpha=0.7)\n",
    "\n",
    "plt.xlabel(\"Height (Pixels)\")\n",
    "plt.ylabel(\"Frequency\")\n",
    "plt.title(\"Distribution of Image Height\")\n",
    "plt.grid(axis='y', linestyle=\"--\", alpha=0.7)\n",
    "\n",
    "plt.show()\n"
   ]
  },
  {
   "cell_type": "code",
   "execution_count": 17,
   "metadata": {},
   "outputs": [],
   "source": [
    "def count_channel_intensity(image_directory):\n",
    "    total_red, total_green, total_blue = 0, 0, 0\n",
    "    image_count = 0\n",
    "    image_files = [f for f in os.listdir(image_directory) if \n",
    "                   f.lower().endswith(('.jpg', '.jpeg', '.png'))]\n",
    "    \n",
    "    for image_file in image_files:\n",
    "        image_path = os.path.join(image_directory, image_file)\n",
    "        img = cv2.imread(image_path)\n",
    "        \n",
    "        if img is not None:\n",
    "            img = cv2.cvtColor(img, cv2.COLOR_BGR2RGB)\n",
    "            \n",
    "            total_red += np.sum(img[:, :, 0])  \n",
    "            total_green += np.sum(img[:, :, 1])  \n",
    "            total_blue += np.sum(img[:, :, 2])  \n",
    "            \n",
    "            image_count += 1\n",
    "\n",
    "    return total_red, total_green, total_blue, image_count\n",
    "\n",
    "\n",
    "\n",
    "total_red_train, total_green_train, total_blue_train, image_count_train = count_channel_intensity(TRAIN_IMAGE_PATH)\n",
    "total_red_test, total_green_test, total_blue_test, image_count_test = count_channel_intensity(TEST_IMAGE_PATH)\n",
    "\n",
    "\n",
    "total_red = total_red_train + total_red_test\n",
    "total_green = total_green_train + total_green_test\n",
    "total_blue = total_blue_train + total_blue_test\n",
    "image_count = image_count_train + image_count_test\n",
    "\n",
    "\n"
   ]
  },
  {
   "cell_type": "code",
   "execution_count": 18,
   "metadata": {},
   "outputs": [
    {
     "data": {
      "image/png": "[encoded data removed]",
      "text/plain": [
       "<Figure size 800x500 with 1 Axes>"
      ]
     },
     "metadata": {},
     "output_type": "display_data"
    }
   ],
   "source": [
    "colors = [\"red\", \"green\", \"blue\"]\n",
    "totals = [total_red, total_green, total_blue]\n",
    "\n",
    "plt.figure(figsize=(8, 5))\n",
    "plt.bar([\"Red\", \"Green\", \"Blue\"], totals, color=colors)\n",
    "plt.xlabel(\"Color Channel\")\n",
    "plt.ylabel(\"Total Pixel Intensity\")\n",
    "plt.title(f\"Total Intensity for Each Color Channel Across {image_count} Images\")\n",
    "plt.show()\n"
   ]
  },
  {
   "cell_type": "code",
   "execution_count": 19,
   "metadata": {},
   "outputs": [],
   "source": [
    "TRAIN_CSV_PATH = os.getenv('TRAIN_CSV')\n",
    "TEST_CSV_PATH = os.getenv('TEST_CSV')"
   ]
  },
  {
   "cell_type": "code",
   "execution_count": 20,
   "metadata": {},
   "outputs": [],
   "source": [
    "train_df  = pd.read_csv(TRAIN_CSV_PATH)"
   ]
  },
  {
   "cell_type": "code",
   "execution_count": 21,
   "metadata": {},
   "outputs": [
    {
     "data": {
      "text/plain": [
       "(3662, 2)"
      ]
     },
     "execution_count": 21,
     "metadata": {},
     "output_type": "execute_result"
    }
   ],
   "source": [
    "train_df.shape"
   ]
  },
  {
   "cell_type": "code",
   "execution_count": 22,
   "metadata": {},
   "outputs": [
    {
     "data": {
      "text/plain": [
       "7324"
      ]
     },
     "execution_count": 22,
     "metadata": {},
     "output_type": "execute_result"
    }
   ],
   "source": [
    "train_df.size"
   ]
  },
  {
   "cell_type": "code",
   "execution_count": 23,
   "metadata": {},
   "outputs": [
    {
     "data": {
      "text/html": [
       "<div>\n",
       "<style scoped>\n",
       "    .dataframe tbody tr th:only-of-type {\n",
       "        vertical-align: middle;\n",
       "    }\n",
       "\n",
       "    .dataframe tbody tr th {\n",
       "        vertical-align: top;\n",
       "    }\n",
       "\n",
       "    .dataframe thead th {\n",
       "        text-align: right;\n",
       "    }\n",
       "</style>\n",
       "<table border=\"1\" class=\"dataframe\">\n",
       "  <thead>\n",
       "    <tr style=\"text-align: right;\">\n",
       "      <th></th>\n",
       "      <th>id_code</th>\n",
       "      <th>diagnosis</th>\n",
       "    </tr>\n",
       "  </thead>\n",
       "  <tbody>\n",
       "    <tr>\n",
       "      <th>0</th>\n",
       "      <td>000c1434d8d7</td>\n",
       "      <td>2</td>\n",
       "    </tr>\n",
       "    <tr>\n",
       "      <th>1</th>\n",
       "      <td>001639a390f0</td>\n",
       "      <td>4</td>\n",
       "    </tr>\n",
       "    <tr>\n",
       "      <th>2</th>\n",
       "      <td>0024cdab0c1e</td>\n",
       "      <td>1</td>\n",
       "    </tr>\n",
       "    <tr>\n",
       "      <th>3</th>\n",
       "      <td>002c21358ce6</td>\n",
       "      <td>0</td>\n",
       "    </tr>\n",
       "    <tr>\n",
       "      <th>4</th>\n",
       "      <td>005b95c28852</td>\n",
       "      <td>0</td>\n",
       "    </tr>\n",
       "  </tbody>\n",
       "</table>\n",
       "</div>"
      ],
      "text/plain": [
       "        id_code  diagnosis\n",
       "0  000c1434d8d7          2\n",
       "1  001639a390f0          4\n",
       "2  0024cdab0c1e          1\n",
       "3  002c21358ce6          0\n",
       "4  005b95c28852          0"
      ]
     },
     "execution_count": 23,
     "metadata": {},
     "output_type": "execute_result"
    }
   ],
   "source": [
    "train_df.head()"
   ]
  },
  {
   "cell_type": "code",
   "execution_count": 24,
   "metadata": {},
   "outputs": [
    {
     "data": {
      "text/html": [
       "<div>\n",
       "<style scoped>\n",
       "    .dataframe tbody tr th:only-of-type {\n",
       "        vertical-align: middle;\n",
       "    }\n",
       "\n",
       "    .dataframe tbody tr th {\n",
       "        vertical-align: top;\n",
       "    }\n",
       "\n",
       "    .dataframe thead th {\n",
       "        text-align: right;\n",
       "    }\n",
       "</style>\n",
       "<table border=\"1\" class=\"dataframe\">\n",
       "  <thead>\n",
       "    <tr style=\"text-align: right;\">\n",
       "      <th></th>\n",
       "      <th>id_code</th>\n",
       "      <th>diagnosis</th>\n",
       "    </tr>\n",
       "  </thead>\n",
       "  <tbody>\n",
       "    <tr>\n",
       "      <th>3657</th>\n",
       "      <td>ffa47f6a7bf4</td>\n",
       "      <td>2</td>\n",
       "    </tr>\n",
       "    <tr>\n",
       "      <th>3658</th>\n",
       "      <td>ffc04fed30e6</td>\n",
       "      <td>0</td>\n",
       "    </tr>\n",
       "    <tr>\n",
       "      <th>3659</th>\n",
       "      <td>ffcf7b45f213</td>\n",
       "      <td>2</td>\n",
       "    </tr>\n",
       "    <tr>\n",
       "      <th>3660</th>\n",
       "      <td>ffd97f8cd5aa</td>\n",
       "      <td>0</td>\n",
       "    </tr>\n",
       "    <tr>\n",
       "      <th>3661</th>\n",
       "      <td>ffec9a18a3ce</td>\n",
       "      <td>2</td>\n",
       "    </tr>\n",
       "  </tbody>\n",
       "</table>\n",
       "</div>"
      ],
      "text/plain": [
       "           id_code  diagnosis\n",
       "3657  ffa47f6a7bf4          2\n",
       "3658  ffc04fed30e6          0\n",
       "3659  ffcf7b45f213          2\n",
       "3660  ffd97f8cd5aa          0\n",
       "3661  ffec9a18a3ce          2"
      ]
     },
     "execution_count": 24,
     "metadata": {},
     "output_type": "execute_result"
    }
   ],
   "source": [
    "train_df.tail()"
   ]
  },
  {
   "cell_type": "code",
   "execution_count": 25,
   "metadata": {},
   "outputs": [
    {
     "data": {
      "text/html": [
       "<div>\n",
       "<style scoped>\n",
       "    .dataframe tbody tr th:only-of-type {\n",
       "        vertical-align: middle;\n",
       "    }\n",
       "\n",
       "    .dataframe tbody tr th {\n",
       "        vertical-align: top;\n",
       "    }\n",
       "\n",
       "    .dataframe thead th {\n",
       "        text-align: right;\n",
       "    }\n",
       "</style>\n",
       "<table border=\"1\" class=\"dataframe\">\n",
       "  <thead>\n",
       "    <tr style=\"text-align: right;\">\n",
       "      <th></th>\n",
       "      <th>count</th>\n",
       "      <th>unique</th>\n",
       "      <th>top</th>\n",
       "      <th>freq</th>\n",
       "      <th>mean</th>\n",
       "      <th>std</th>\n",
       "      <th>min</th>\n",
       "      <th>25%</th>\n",
       "      <th>50%</th>\n",
       "      <th>75%</th>\n",
       "      <th>max</th>\n",
       "    </tr>\n",
       "  </thead>\n",
       "  <tbody>\n",
       "    <tr>\n",
       "      <th>id_code</th>\n",
       "      <td>3662</td>\n",
       "      <td>3662</td>\n",
       "      <td>000c1434d8d7</td>\n",
       "      <td>1</td>\n",
       "      <td>NaN</td>\n",
       "      <td>NaN</td>\n",
       "      <td>NaN</td>\n",
       "      <td>NaN</td>\n",
       "      <td>NaN</td>\n",
       "      <td>NaN</td>\n",
       "      <td>NaN</td>\n",
       "    </tr>\n",
       "    <tr>\n",
       "      <th>diagnosis</th>\n",
       "      <td>3662.0</td>\n",
       "      <td>NaN</td>\n",
       "      <td>NaN</td>\n",
       "      <td>NaN</td>\n",
       "      <td>1.12698</td>\n",
       "      <td>1.298409</td>\n",
       "      <td>0.0</td>\n",
       "      <td>0.0</td>\n",
       "      <td>1.0</td>\n",
       "      <td>2.0</td>\n",
       "      <td>4.0</td>\n",
       "    </tr>\n",
       "  </tbody>\n",
       "</table>\n",
       "</div>"
      ],
      "text/plain": [
       "            count unique           top freq     mean       std  min  25%  50%  \\\n",
       "id_code      3662   3662  000c1434d8d7    1      NaN       NaN  NaN  NaN  NaN   \n",
       "diagnosis  3662.0    NaN           NaN  NaN  1.12698  1.298409  0.0  0.0  1.0   \n",
       "\n",
       "           75%  max  \n",
       "id_code    NaN  NaN  \n",
       "diagnosis  2.0  4.0  "
      ]
     },
     "execution_count": 25,
     "metadata": {},
     "output_type": "execute_result"
    }
   ],
   "source": [
    "train_df.describe(include='all').T"
   ]
  },
  {
   "cell_type": "code",
   "execution_count": 26,
   "metadata": {},
   "outputs": [
    {
     "data": {
      "text/plain": [
       "2"
      ]
     },
     "execution_count": 26,
     "metadata": {},
     "output_type": "execute_result"
    }
   ],
   "source": [
    "train_df.ndim"
   ]
  },
  {
   "cell_type": "code",
   "execution_count": 27,
   "metadata": {},
   "outputs": [
    {
     "data": {
      "text/plain": [
       "5"
      ]
     },
     "execution_count": 27,
     "metadata": {},
     "output_type": "execute_result"
    }
   ],
   "source": [
    "train_df['diagnosis'].nunique()"
   ]
  },
  {
   "cell_type": "code",
   "execution_count": 28,
   "metadata": {},
   "outputs": [
    {
     "data": {
      "text/plain": [
       "array([2, 4, 1, 0, 3], dtype=int64)"
      ]
     },
     "execution_count": 28,
     "metadata": {},
     "output_type": "execute_result"
    }
   ],
   "source": [
    "train_df['diagnosis'].unique()"
   ]
  },
  {
   "cell_type": "code",
   "execution_count": 29,
   "metadata": {},
   "outputs": [],
   "source": [
    "class_count = train_df['diagnosis'].value_counts().to_dict()\n"
   ]
  },
  {
   "cell_type": "code",
   "execution_count": 30,
   "metadata": {},
   "outputs": [
    {
     "data": {
      "image/png": "[encoded data removed]",
      "text/plain": [
       "<Figure size 800x500 with 1 Axes>"
      ]
     },
     "metadata": {},
     "output_type": "display_data"
    }
   ],
   "source": [
    "labels = list(class_count.keys())\n",
    "counts = list(class_count.values())\n",
    "\n",
    "plt.figure(figsize=(8, 5))\n",
    "plt.bar(labels, counts, color=['red', 'blue', 'green', 'orange', 'purple'])\n",
    "\n",
    "\n",
    "plt.xlabel(\"Diagnosis Class\")\n",
    "plt.ylabel(\"Count\")\n",
    "plt.title(\"Distribution of Diagnosis Classes\")\n",
    "plt.xticks(labels)  \n",
    "\n",
    "\n",
    "plt.show()"
   ]
  },
  {
   "cell_type": "code",
   "execution_count": null,
   "metadata": {},
   "outputs": [],
   "source": [
    "import tensorflow as tf\n",
    "import os\n",
    "import pandas as pd\n",
    "from tensorflow.keras.applications import ResNet50\n",
    "from tensorflow.keras.models import Model\n",
    "from tensorflow.keras.layers import Dense, Dropout, GlobalAveragePooling2D, BatchNormalization\n",
    "from tensorflow.keras.regularizers import l1_l2\n",
    "from tensorflow.keras.callbacks import EarlyStopping, ReduceLROnPlateau, ModelCheckpoint\n",
    "\n",
    "# ✅ Enable Mixed Precision for Speed\n",
    "tf.keras.mixed_precision.set_global_policy(\"mixed_float16\")\n",
    "\n",
    "# ✅ Enable Multi-GPU Training\n",
    "strategy = tf.distribute.MirroredStrategy()\n",
    "\n",
    "# ✅ Correct Paths\n",
    "IMAGE_DIR = \"C:/Users/HP/OneDrive/Desktop/Projects/Retinopathy/PreProcessedImages/Train\"\n",
    "CSV_FILE = \"C:/Users/HP/OneDrive/Desktop/Projects/Retinopathy/train.csv\"\n",
    "IMG_SIZE = (256, 256)\n",
    "BATCH_SIZE = 64\n",
    "AUTOTUNE = tf.data.AUTOTUNE  # Auto-optimizes data pipeline\n",
    "\n",
    "# ✅ Load CSV and Preprocess Labels\n",
    "df = pd.read_csv(CSV_FILE)\n",
    "df[\"image_id\"] = df[\"image_id\"] + \".jpg\"\n",
    "df[\"label\"] = df[\"label\"].astype(str)  # Convert labels to string\n",
    "\n",
    "# ✅ Define Dataset Loader\n",
    "def load_image(image_name, label):\n",
    "    img_path = tf.strings.join([IMAGE_DIR, \"/\", image_name])\n",
    "    img = tf.io.read_file(img_path)\n",
    "    img = tf.image.decode_jpeg(img, channels=3)  # Replace SciPy\n",
    "    img = tf.image.resize(img, IMG_SIZE) / 255.0  # Normalize\n",
    "    return img, label\n",
    "\n",
    "# ✅ Create `tf.data.Dataset`\n",
    "image_paths = df[\"image_id\"].values\n",
    "labels = df[\"label\"].values\n",
    "\n",
    "# Convert labels to integer indices\n",
    "label_mapping = {label: idx for idx, label in enumerate(sorted(set(labels)))}\n",
    "df[\"label_idx\"] = df[\"label\"].map(label_mapping)\n",
    "\n",
    "dataset = tf.data.Dataset.from_tensor_slices((image_paths, df[\"label_idx\"]))\n",
    "dataset = dataset.map(load_image, num_parallel_calls=AUTOTUNE)  # Efficient parallel loading\n",
    "dataset = dataset.shuffle(len(df)).batch(BATCH_SIZE).prefetch(AUTOTUNE)\n",
    "\n",
    "# ✅ Split into Train & Validation\n",
    "train_size = int(0.8 * len(df))\n",
    "train_ds = dataset.take(train_size)\n",
    "val_ds = dataset.skip(train_size)\n",
    "\n",
    "# ✅ Model Definition (Inside `strategy.scope()`)\n",
    "\n",
    "# ✅ Callbacks\n",
    "early_stopping = EarlyStopping(monitor=\"val_loss\", patience=5, restore_best_weights=True)\n",
    "reduce_lr = ReduceLROnPlateau(monitor=\"val_loss\", factor=0.2, patience=3, min_lr=1e-6)\n",
    "checkpoint = ModelCheckpoint(\"best_model.h5\", monitor=\"val_accuracy\", save_best_only=True, mode=\"max\", verbose=1)\n",
    "\n",
    "# ✅ Train Model WITHOUT `ImageDataGenerator`\n",
    "history = model.fit(\n",
    "    train_ds,\n",
    "    validation_data=val_ds,\n",
    "    epochs=50,\n",
    "    callbacks=[early_stopping, reduce_lr, checkpoint],\n",
    "    verbose=1\n",
    ")\n"
   ]
  },
  {
   "cell_type": "code",
   "execution_count": null,
   "metadata": {},
   "outputs": [],
   "source": [
    "import tensorflow as tf\n",
    "import os\n",
    "import pandas as pd\n",
    "from tensorflow.keras.applications import ResNet50\n",
    "from tensorflow.keras.models import Model\n",
    "from tensorflow.keras.layers import Dense, Dropout, GlobalAveragePooling2D, BatchNormalization\n",
    "from tensorflow.keras.regularizers import l1_l2\n",
    "from tensorflow.keras.callbacks import EarlyStopping, ReduceLROnPlateau, ModelCheckpoint\n",
    "\n",
    "\n",
    "tf.keras.mixed_precision.set_global_policy(\"mixed_float16\")\n",
    "strategy = tf.distribute.OneDeviceStrategy(device=\"/GPU:0\")\n",
    "\n",
    "\n",
    "IMAGE_DIR = PREPROCESSED_TRAINING_PATH\n",
    "CSV_FILE = TRAIN_CSV_PATH\n",
    "IMG_SIZE = (256, 256)\n",
    "BATCH_SIZE = 16\n",
    "AUTOTUNE = tf.data.AUTOTUNE  \n",
    "\n",
    "\n",
    "train_df = pd.read_csv(CSV_FILE)\n",
    "train_df[\"id_code\"] = train_df[\"id_code\"] + \".png\"\n",
    "train_df[\"diagnosis\"] = train_df[\"diagnosis\"].astype(str)  \n",
    "\n",
    "\n",
    "train_df.head()\n",
    "\n",
    "\n",
    "def load_image(image_path, label):\n",
    "\n",
    "    image = tf.io.read_file(image_path)\n",
    "    image = tf.image.decode_png(image, channels=3)\n",
    "    image = tf.image.resize(image, [256, 256])\n",
    "    image = tf.cast(image, tf.float32) / 255.0  # Normalize to [0, 1]\n",
    "    \n",
    "\n",
    "    return image, label\n",
    "\n",
    "\n",
    "\n",
    "image_paths = [IMAGE_DIR + '\\\\' + code.rstrip(\".png\") + \".png\" for code in train_df[\"id_code\"].values]\n",
    "labels = train_df[\"diagnosis\"].values\n",
    "\n",
    "\n",
    "\n",
    "labels = train_df[\"diagnosis\"].astype(\"int32\").values\n",
    "raw_dataset = tf.data.Dataset.from_tensor_slices((image_paths, labels))\n",
    "\n",
    "\n",
    "raw_dataset = raw_dataset.map(load_image, num_parallel_calls=tf.data.AUTOTUNE)\n",
    "raw_dataset = raw_dataset.shuffle(len(train_df), seed=42)\n",
    "\n",
    "\n",
    "\n",
    "# Step 2: Split before batching\n",
    "train_size = int(0.8 * len(train_df))\n",
    "train_ds = raw_dataset.take(train_size)\n",
    "val_ds = raw_dataset.skip(train_size)\n",
    "\n",
    "# Step 3: Apply batching and prefetch\n",
    "train_ds = train_ds.batch(BATCH_SIZE).prefetch(AUTOTUNE)\n",
    "val_ds = val_ds.batch(BATCH_SIZE).prefetch(AUTOTUNE)\n",
    "\n",
    "from tensorflow.keras.callbacks import ReduceLROnPlateau\n",
    "\n",
    "reduce_lr = ReduceLROnPlateau(monitor=\"val_loss\", factor=0.5, patience=2, min_lr=1e-6, verbose=1)\n",
    "\n",
    "\n",
    "\n",
    "with strategy.scope():\n",
    "    base_model = ResNet50(weights=\"imagenet\", include_top=False, input_shape=(256, 256, 3))\n",
    "    base_model.trainable = False\n",
    "    for layer in base_model.layers[:-45]:\n",
    "        layer.trainable = True\n",
    "\n",
    "    x = GlobalAveragePooling2D()(base_model.output)  \n",
    "    x = BatchNormalization()(x)  \n",
    "    \n",
    "    x = Dense(512, activation=\"relu\", kernel_regularizer=l1_l2(l1=1e-5, l2=1e-4))(x)\n",
    "    x = Dropout(0.5)(x)  \n",
    "    \n",
    "    x = Dense(256, activation=\"relu\")(x)  \n",
    "    x = Dropout(0.3)(x)  \n",
    "    \n",
    "    output_layer = Dense(num_classes, activation=\"softmax\")(x)  \n",
    "\n",
    "    model = Model(inputs=base_model.input, outputs=output_layer)\n",
    "    optimizer = tf.keras.optimizers.Adam(learning_rate=1e-3,clipvalue=1.0)\n",
    "\n",
    "    model.compile(optimizer=optimizer, loss=\"sparse_categorical_crossentropy\", metrics=[\"accuracy\"])\n",
    "\n",
    "\n",
    "\n",
    "from tensorflow.keras import mixed_precision\n",
    "mixed_precision.set_global_policy('mixed_float16')\n",
    "\n",
    "\n",
    "early_stopping = EarlyStopping(monitor=\"accuracy\", patience=7, restore_best_weights=True)\n",
    "reduce_lr = tf.keras.callbacks.ReduceLROnPlateau(monitor=\"loss\", factor=0.5, patience=2)\n",
    "checkpoint = tf.keras.callbacks.ModelCheckpoint(\"best_model.h5\", save_best_only=True, monitor=\"accuracy\")\n",
    "\n",
    "\n",
    "callbacks = [early_stopping, checkpoint, reduce_lr]\n",
    "\n",
    "\n",
    "\n",
    "history = model.fit(\n",
    "    train_ds,\n",
    "    validation_data=val_ds,\n",
    "    epochs=30,\n",
    "    callbacks=callbacks,\n",
    "    verbose=1\n",
    ")\n"
   ]
  },
  {
   "cell_type": "code",
   "execution_count": 2,
   "metadata": {},
   "outputs": [],
   "source": [
    "import tensorflow as tf\n",
    "from tensorflow.keras.preprocessing import image\n",
    "import numpy as np\n"
   ]
  },
  {
   "cell_type": "code",
   "execution_count": 3,
   "metadata": {},
   "outputs": [
    {
     "ename": "",
     "evalue": "",
     "output_type": "error",
     "traceback": [
      "\u001b[1;31mThe Kernel crashed while executing code in the current cell or a previous cell. \n",
      "\u001b[1;31mPlease review the code in the cell(s) to identify a possible cause of the failure. \n",
      "\u001b[1;31mClick <a href='https://aka.ms/vscodeJupyterKernelCrash'>here</a> for more info. \n",
      "\u001b[1;31mView Jupyter <a href='command:jupyter.viewOutput'>log</a> for further details."
     ]
    }
   ],
   "source": [
    "model = tf.keras.models.load_model('C:\\\\Users\\\\HP\\\\OneDrive\\\\Desktop\\\\Projects\\\\Retinopathy\\\\best_model.h5')"
   ]
  },
  {
   "cell_type": "code",
   "execution_count": null,
   "metadata": {},
   "outputs": [],
   "source": []
  },
  {
   "cell_type": "code",
   "execution_count": null,
   "metadata": {},
   "outputs": [],
   "source": []
  }
 ],
 "metadata": {
  "kernelspec": {
   "display_name": "Python 3",
   "language": "python",
   "name": "python3"
  },
  "language_info": {
   "codemirror_mode": {
    "name": "ipython",
    "version": 3
   },
   "file_extension": ".py",
   "mimetype": "text/x-python",
   "name": "python",
   "nbconvert_exporter": "python",
   "pygments_lexer": "ipython3",
   "version": "3.10.16"
  }
 },
 "nbformat": 4,
 "nbformat_minor": 4
}
