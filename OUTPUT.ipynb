{
 "cells": [
  {
   "cell_type": "code",
   "execution_count": 26,
   "metadata": {},
   "outputs": [
    {
     "name": "stdout",
     "output_type": "stream",
     "text": [
      "Python 3.12.4\n"
     ]
    }
   ],
   "source": [
    "!python --version"
   ]
  },
  {
   "cell_type": "code",
   "execution_count": 1,
   "metadata": {},
   "outputs": [],
   "source": [
    "import os \n",
    "import cv2\n",
    "import matplotlib.pyplot as plt\n",
    "import numpy as np\n",
    "import pandas as pd \n"
   ]
  },
  {
   "cell_type": "code",
   "execution_count": 28,
   "metadata": {},
   "outputs": [],
   "source": [
    "img = cv2.imread(\"train_images/0abf0c485f66.png\", cv2.IMREAD_COLOR)"
   ]
  },
  {
   "cell_type": "code",
   "execution_count": 29,
   "metadata": {},
   "outputs": [
    {
     "data": {
      "text/plain": [
       "-1"
      ]
     },
     "execution_count": 29,
     "metadata": {},
     "output_type": "execute_result"
    }
   ],
   "source": [
    "cv2.imshow('Image',img)\n",
    "cv2.waitKey(0)"
   ]
  },
  {
   "cell_type": "code",
   "execution_count": 30,
   "metadata": {},
   "outputs": [
    {
     "name": "stdout",
     "output_type": "stream",
     "text": [
      "Width: 2048, Height: 1536, Channels: 3\n"
     ]
    }
   ],
   "source": [
    "height, width, channels = img.shape\n",
    "\n",
    "print(f\"Width: {width}, Height: {height}, Channels: {channels}\")"
   ]
  },
  {
   "cell_type": "code",
   "execution_count": 2,
   "metadata": {},
   "outputs": [
    {
     "data": {
      "text/plain": [
       "True"
      ]
     },
     "execution_count": 2,
     "metadata": {},
     "output_type": "execute_result"
    }
   ],
   "source": [
    "from dotenv import load_dotenv\n",
    "\n",
    "load_dotenv()"
   ]
  },
  {
   "cell_type": "code",
   "execution_count": 32,
   "metadata": {},
   "outputs": [],
   "source": [
    "train_directory = os.getenv(\"TRAIN_IMAGE_PATH\")\n",
    "test_directory = os.getenv(\"TEST_IMAGE_PATH\")"
   ]
  },
  {
   "cell_type": "code",
   "execution_count": 33,
   "metadata": {},
   "outputs": [
    {
     "name": "stdout",
     "output_type": "stream",
     "text": [
      "Train Image Count :  3662\n"
     ]
    }
   ],
   "source": [
    "\n",
    "all_files = os.listdir(train_directory)\n",
    "\n",
    "\n",
    "image_extensions = (\".jpg\", \".jpeg\", \".png\", \".bmp\", \".tiff\", \".gif\")\n",
    "\n",
    "\n",
    "train_image_count = 0\n",
    "for file in all_files:\n",
    "    if file.lower().endswith(image_extensions):\n",
    "        train_image_count += 1\n",
    "        \n",
    "print(\"Train Image Count : \",train_image_count)\n"
   ]
  },
  {
   "cell_type": "code",
   "execution_count": 34,
   "metadata": {},
   "outputs": [
    {
     "name": "stdout",
     "output_type": "stream",
     "text": [
      "Test Image Count :  1928\n"
     ]
    }
   ],
   "source": [
    "\n",
    "all_files = os.listdir(test_directory)\n",
    "\n",
    "\n",
    "image_extensions = (\".jpg\", \".jpeg\", \".png\", \".bmp\", \".tiff\", \".gif\")\n",
    "\n",
    "\n",
    "test_image_count = 0\n",
    "for file in all_files:\n",
    "    if file.lower().endswith(image_extensions):\n",
    "        test_image_count += 1\n",
    "        \n",
    "print(\"Test Image Count : \",test_image_count)\n"
   ]
  },
  {
   "cell_type": "code",
   "execution_count": 35,
   "metadata": {},
   "outputs": [
    {
     "name": "stdout",
     "output_type": "stream",
     "text": [
      "Image Type Count: {'JPG': 0, 'JPEG': 0, 'PNG': 5590}\n"
     ]
    }
   ],
   "source": [
    "image_type_count = {'JPG': 0, 'JPEG': 0, 'PNG': 0}\n",
    "\n",
    "def count_images(directory):\n",
    "    all_files = os.listdir(directory)\n",
    "    for file in all_files:\n",
    "        file_lower = file.lower()\n",
    "        if file_lower.endswith('.jpg'):\n",
    "            image_type_count['JPG'] += 1\n",
    "        elif file_lower.endswith('.jpeg'):\n",
    "            image_type_count['JPEG'] += 1\n",
    "        elif file_lower.endswith('.png'):\n",
    "            image_type_count['PNG'] += 1\n",
    "\n",
    "\n",
    "count_images(train_directory)\n",
    "count_images(test_directory)\n",
    "\n",
    "\n",
    "print(\"Image Type Count:\", image_type_count)\n"
   ]
  },
  {
   "cell_type": "code",
   "execution_count": 36,
   "metadata": {},
   "outputs": [
    {
     "data": {
      "image/png": "[encoded data removed]",
      "text/plain": [
       "<Figure size 600x400 with 1 Axes>"
      ]
     },
     "metadata": {},
     "output_type": "display_data"
    }
   ],
   "source": [
    "plt.figure(figsize=(6, 4))\n",
    "plt.bar(image_type_count.keys(), image_type_count.values(), color=['blue', 'orange', 'green'])\n",
    "\n",
    "\n",
    "plt.xlabel(\"Image Type\")\n",
    "plt.ylabel(\"Count\")\n",
    "plt.title(\"Image Type Distribution\")\n",
    "plt.show()"
   ]
  },
  {
   "cell_type": "code",
   "execution_count": 38,
   "metadata": {},
   "outputs": [],
   "source": [
    "def calculate_width(image_directory):\n",
    "    image_widths = {}\n",
    "    image_files = [f for f in os.listdir(image_directory) if \n",
    "                   f.lower().endswith(('.jpg', '.jpeg', '.png'))]\n",
    "    \n",
    "    for image_file in image_files:\n",
    "        image_path = os.path.join(image_directory, image_file)\n",
    "        img = cv2.imread(image_path)\n",
    "        if img is not None:\n",
    "            image_widths[image_file] = img.shape[1]  # Width of image\n",
    "\n",
    "    return image_widths\n",
    "\n",
    "\n",
    "train_widths = calculate_width(train_directory)\n",
    "test_widths = calculate_width(test_directory)\n",
    "\n",
    "\n",
    "all_widths = {**train_widths, **test_widths}\n",
    "sorted_files = sorted(all_widths, key=all_widths.get)  \n",
    "sorted_widths = [all_widths[file] for file in sorted_files]\n",
    "\n"
   ]
  },
  {
   "cell_type": "code",
   "execution_count": null,
   "metadata": {},
   "outputs": [
    {
     "data": {
      "image/png": "[encoded data removed]",
      "text/plain": [
       "<Figure size 800x600 with 1 Axes>"
      ]
     },
     "metadata": {},
     "output_type": "display_data"
    }
   ],
   "source": [
    "plt.figure(figsize=(8, 6))\n",
    "plt.hist(sorted_widths, bins=10, color='orange', edgecolor='black', alpha=0.7)\n",
    "\n",
    "plt.xlabel(\"Width (Pixels)\")\n",
    "plt.ylabel(\"Frequency\")\n",
    "plt.title(\"Distribution of Image Widths\")\n",
    "plt.grid(axis='y', linestyle=\"--\", alpha=0.7)\n",
    "\n",
    "plt.show()\n"
   ]
  },
  {
   "cell_type": "code",
   "execution_count": null,
   "metadata": {},
   "outputs": [],
   "source": [
    "def calculate_height(image_directory):\n",
    "    image_height = {}\n",
    "    image_files = [f for f in os.listdir(image_directory) if \n",
    "                   f.lower().endswith(('.jpg', '.jpeg', '.png'))]\n",
    "    \n",
    "    for image_file in image_files:\n",
    "        image_path = os.path.join(image_directory, image_file)\n",
    "        img = cv2.imread(image_path)\n",
    "        if img is not None:\n",
    "            image_height[image_file] = img.shape[0]  \n",
    "\n",
    "    return image_height\n",
    "\n",
    "\n",
    "train_heights = calculate_height(train_directory)\n",
    "test_heights = calculate_height(test_directory)\n",
    "\n",
    "\n",
    "all_heights = {**train_heights, **test_heights}\n",
    "sorted_files = sorted(all_heights, key=all_heights.get)  \n",
    "sorted_height = [all_heights[file] for file in sorted_files]\n",
    "\n"
   ]
  },
  {
   "cell_type": "code",
   "execution_count": null,
   "metadata": {},
   "outputs": [
    {
     "data": {
      "image/png": "[encoded data removed]",
      "text/plain": [
       "<Figure size 800x600 with 1 Axes>"
      ]
     },
     "metadata": {},
     "output_type": "display_data"
    }
   ],
   "source": [
    "plt.figure(figsize=(8, 6))\n",
    "plt.hist(sorted_height, bins=10, color='blue', edgecolor='black', alpha=0.7)\n",
    "\n",
    "plt.xlabel(\"Height (Pixels)\")\n",
    "plt.ylabel(\"Frequency\")\n",
    "plt.title(\"Distribution of Image Height\")\n",
    "plt.grid(axis='y', linestyle=\"--\", alpha=0.7)\n",
    "\n",
    "plt.show()\n"
   ]
  },
  {
   "cell_type": "code",
   "execution_count": null,
   "metadata": {},
   "outputs": [],
   "source": [
    "def count_channel_intensity(image_directory):\n",
    "    total_red, total_green, total_blue = 0, 0, 0\n",
    "    image_count = 0\n",
    "    image_files = [f for f in os.listdir(image_directory) if \n",
    "                   f.lower().endswith(('.jpg', '.jpeg', '.png'))]\n",
    "    \n",
    "    for image_file in image_files:\n",
    "        image_path = os.path.join(image_directory, image_file)\n",
    "        img = cv2.imread(image_path)\n",
    "        \n",
    "        if img is not None:\n",
    "            img = cv2.cvtColor(img, cv2.COLOR_BGR2RGB)\n",
    "            \n",
    "            total_red += np.sum(img[:, :, 0])  \n",
    "            total_green += np.sum(img[:, :, 1])  \n",
    "            total_blue += np.sum(img[:, :, 2])  \n",
    "            \n",
    "            image_count += 1\n",
    "\n",
    "    return total_red, total_green, total_blue, image_count\n",
    "\n",
    "\n",
    "\n",
    "total_red_train, total_green_train, total_blue_train, image_count_train = count_channel_intensity(train_directory)\n",
    "total_red_test, total_green_test, total_blue_test, image_count_test = count_channel_intensity(test_directory)\n",
    "\n",
    "\n",
    "total_red = total_red_train + total_red_test\n",
    "total_green = total_green_train + total_green_test\n",
    "total_blue = total_blue_train + total_blue_test\n",
    "image_count = image_count_train + image_count_test\n",
    "\n",
    "\n"
   ]
  },
  {
   "cell_type": "code",
   "execution_count": null,
   "metadata": {},
   "outputs": [
    {
     "data": {
      "image/png": "[encoded data removed]",
      "text/plain": [
       "<Figure size 800x500 with 1 Axes>"
      ]
     },
     "metadata": {},
     "output_type": "display_data"
    }
   ],
   "source": [
    "colors = [\"red\", \"green\", \"blue\"]\n",
    "totals = [total_red, total_green, total_blue]\n",
    "\n",
    "plt.figure(figsize=(8, 5))\n",
    "plt.bar([\"Red\", \"Green\", \"Blue\"], totals, color=colors)\n",
    "plt.xlabel(\"Color Channel\")\n",
    "plt.ylabel(\"Total Pixel Intensity\")\n",
    "plt.title(f\"Total Intensity for Each Color Channel Across {image_count} Images\")\n",
    "plt.show()\n"
   ]
  },
  {
   "cell_type": "code",
   "execution_count": 3,
   "metadata": {},
   "outputs": [],
   "source": [
    "train_csv_path = os.getenv(\"TRAIN_CSV_PATH\")"
   ]
  },
  {
   "cell_type": "code",
   "execution_count": 4,
   "metadata": {},
   "outputs": [],
   "source": [
    "train_df  = pd.read_csv(train_csv_path)"
   ]
  },
  {
   "cell_type": "code",
   "execution_count": 5,
   "metadata": {},
   "outputs": [
    {
     "data": {
      "text/plain": [
       "(3662, 2)"
      ]
     },
     "execution_count": 5,
     "metadata": {},
     "output_type": "execute_result"
    }
   ],
   "source": [
    "train_df.shape"
   ]
  },
  {
   "cell_type": "code",
   "execution_count": 6,
   "metadata": {},
   "outputs": [
    {
     "data": {
      "text/plain": [
       "7324"
      ]
     },
     "execution_count": 6,
     "metadata": {},
     "output_type": "execute_result"
    }
   ],
   "source": [
    "train_df.size"
   ]
  },
  {
   "cell_type": "code",
   "execution_count": 7,
   "metadata": {},
   "outputs": [
    {
     "data": {
      "text/html": [
       "<div>\n",
       "<style scoped>\n",
       "    .dataframe tbody tr th:only-of-type {\n",
       "        vertical-align: middle;\n",
       "    }\n",
       "\n",
       "    .dataframe tbody tr th {\n",
       "        vertical-align: top;\n",
       "    }\n",
       "\n",
       "    .dataframe thead th {\n",
       "        text-align: right;\n",
       "    }\n",
       "</style>\n",
       "<table border=\"1\" class=\"dataframe\">\n",
       "  <thead>\n",
       "    <tr style=\"text-align: right;\">\n",
       "      <th></th>\n",
       "      <th>id_code</th>\n",
       "      <th>diagnosis</th>\n",
       "    </tr>\n",
       "  </thead>\n",
       "  <tbody>\n",
       "    <tr>\n",
       "      <th>0</th>\n",
       "      <td>000c1434d8d7</td>\n",
       "      <td>2</td>\n",
       "    </tr>\n",
       "    <tr>\n",
       "      <th>1</th>\n",
       "      <td>001639a390f0</td>\n",
       "      <td>4</td>\n",
       "    </tr>\n",
       "    <tr>\n",
       "      <th>2</th>\n",
       "      <td>0024cdab0c1e</td>\n",
       "      <td>1</td>\n",
       "    </tr>\n",
       "    <tr>\n",
       "      <th>3</th>\n",
       "      <td>002c21358ce6</td>\n",
       "      <td>0</td>\n",
       "    </tr>\n",
       "    <tr>\n",
       "      <th>4</th>\n",
       "      <td>005b95c28852</td>\n",
       "      <td>0</td>\n",
       "    </tr>\n",
       "  </tbody>\n",
       "</table>\n",
       "</div>"
      ],
      "text/plain": [
       "        id_code  diagnosis\n",
       "0  000c1434d8d7          2\n",
       "1  001639a390f0          4\n",
       "2  0024cdab0c1e          1\n",
       "3  002c21358ce6          0\n",
       "4  005b95c28852          0"
      ]
     },
     "execution_count": 7,
     "metadata": {},
     "output_type": "execute_result"
    }
   ],
   "source": [
    "train_df.head()"
   ]
  },
  {
   "cell_type": "code",
   "execution_count": null,
   "metadata": {},
   "outputs": [
    {
     "data": {
      "text/html": [
       "<div>\n",
       "<style scoped>\n",
       "    .dataframe tbody tr th:only-of-type {\n",
       "        vertical-align: middle;\n",
       "    }\n",
       "\n",
       "    .dataframe tbody tr th {\n",
       "        vertical-align: top;\n",
       "    }\n",
       "\n",
       "    .dataframe thead th {\n",
       "        text-align: right;\n",
       "    }\n",
       "</style>\n",
       "<table border=\"1\" class=\"dataframe\">\n",
       "  <thead>\n",
       "    <tr style=\"text-align: right;\">\n",
       "      <th></th>\n",
       "      <th>id_code</th>\n",
       "      <th>diagnosis</th>\n",
       "    </tr>\n",
       "  </thead>\n",
       "  <tbody>\n",
       "    <tr>\n",
       "      <th>3657</th>\n",
       "      <td>ffa47f6a7bf4</td>\n",
       "      <td>2</td>\n",
       "    </tr>\n",
       "    <tr>\n",
       "      <th>3658</th>\n",
       "      <td>ffc04fed30e6</td>\n",
       "      <td>0</td>\n",
       "    </tr>\n",
       "    <tr>\n",
       "      <th>3659</th>\n",
       "      <td>ffcf7b45f213</td>\n",
       "      <td>2</td>\n",
       "    </tr>\n",
       "    <tr>\n",
       "      <th>3660</th>\n",
       "      <td>ffd97f8cd5aa</td>\n",
       "      <td>0</td>\n",
       "    </tr>\n",
       "    <tr>\n",
       "      <th>3661</th>\n",
       "      <td>ffec9a18a3ce</td>\n",
       "      <td>2</td>\n",
       "    </tr>\n",
       "  </tbody>\n",
       "</table>\n",
       "</div>"
      ],
      "text/plain": [
       "           id_code  diagnosis\n",
       "3657  ffa47f6a7bf4          2\n",
       "3658  ffc04fed30e6          0\n",
       "3659  ffcf7b45f213          2\n",
       "3660  ffd97f8cd5aa          0\n",
       "3661  ffec9a18a3ce          2"
      ]
     },
     "execution_count": 44,
     "metadata": {},
     "output_type": "execute_result"
    }
   ],
   "source": [
    "train_df.tail()"
   ]
  },
  {
   "cell_type": "code",
   "execution_count": null,
   "metadata": {},
   "outputs": [
    {
     "data": {
      "text/html": [
       "<div>\n",
       "<style scoped>\n",
       "    .dataframe tbody tr th:only-of-type {\n",
       "        vertical-align: middle;\n",
       "    }\n",
       "\n",
       "    .dataframe tbody tr th {\n",
       "        vertical-align: top;\n",
       "    }\n",
       "\n",
       "    .dataframe thead th {\n",
       "        text-align: right;\n",
       "    }\n",
       "</style>\n",
       "<table border=\"1\" class=\"dataframe\">\n",
       "  <thead>\n",
       "    <tr style=\"text-align: right;\">\n",
       "      <th></th>\n",
       "      <th>count</th>\n",
       "      <th>unique</th>\n",
       "      <th>top</th>\n",
       "      <th>freq</th>\n",
       "      <th>mean</th>\n",
       "      <th>std</th>\n",
       "      <th>min</th>\n",
       "      <th>25%</th>\n",
       "      <th>50%</th>\n",
       "      <th>75%</th>\n",
       "      <th>max</th>\n",
       "    </tr>\n",
       "  </thead>\n",
       "  <tbody>\n",
       "    <tr>\n",
       "      <th>id_code</th>\n",
       "      <td>3662</td>\n",
       "      <td>3662</td>\n",
       "      <td>000c1434d8d7</td>\n",
       "      <td>1</td>\n",
       "      <td>NaN</td>\n",
       "      <td>NaN</td>\n",
       "      <td>NaN</td>\n",
       "      <td>NaN</td>\n",
       "      <td>NaN</td>\n",
       "      <td>NaN</td>\n",
       "      <td>NaN</td>\n",
       "    </tr>\n",
       "    <tr>\n",
       "      <th>diagnosis</th>\n",
       "      <td>3662.0</td>\n",
       "      <td>NaN</td>\n",
       "      <td>NaN</td>\n",
       "      <td>NaN</td>\n",
       "      <td>1.12698</td>\n",
       "      <td>1.298409</td>\n",
       "      <td>0.0</td>\n",
       "      <td>0.0</td>\n",
       "      <td>1.0</td>\n",
       "      <td>2.0</td>\n",
       "      <td>4.0</td>\n",
       "    </tr>\n",
       "  </tbody>\n",
       "</table>\n",
       "</div>"
      ],
      "text/plain": [
       "            count unique           top freq     mean       std  min  25%  50%  \\\n",
       "id_code      3662   3662  000c1434d8d7    1      NaN       NaN  NaN  NaN  NaN   \n",
       "diagnosis  3662.0    NaN           NaN  NaN  1.12698  1.298409  0.0  0.0  1.0   \n",
       "\n",
       "           75%  max  \n",
       "id_code    NaN  NaN  \n",
       "diagnosis  2.0  4.0  "
      ]
     },
     "execution_count": 47,
     "metadata": {},
     "output_type": "execute_result"
    }
   ],
   "source": [
    "train_df.describe(include='all').T"
   ]
  },
  {
   "cell_type": "code",
   "execution_count": null,
   "metadata": {},
   "outputs": [
    {
     "data": {
      "text/plain": [
       "2"
      ]
     },
     "execution_count": 48,
     "metadata": {},
     "output_type": "execute_result"
    }
   ],
   "source": [
    "train_df.ndim"
   ]
  },
  {
   "cell_type": "code",
   "execution_count": null,
   "metadata": {},
   "outputs": [
    {
     "data": {
      "text/plain": [
       "5"
      ]
     },
     "execution_count": 51,
     "metadata": {},
     "output_type": "execute_result"
    }
   ],
   "source": [
    "train_df['diagnosis'].nunique()"
   ]
  },
  {
   "cell_type": "code",
   "execution_count": null,
   "metadata": {},
   "outputs": [
    {
     "data": {
      "text/plain": [
       "array([2, 4, 1, 0, 3], dtype=int64)"
      ]
     },
     "execution_count": 52,
     "metadata": {},
     "output_type": "execute_result"
    }
   ],
   "source": [
    "train_df['diagnosis'].unique()"
   ]
  },
  {
   "cell_type": "code",
   "execution_count": null,
   "metadata": {},
   "outputs": [],
   "source": [
    "class_count = train_df['diagnosis'].value_counts().to_dict()\n"
   ]
  },
  {
   "cell_type": "code",
   "execution_count": null,
   "metadata": {},
   "outputs": [
    {
     "data": {
      "image/png": "[encoded data removed]",
      "text/plain": [
       "<Figure size 800x500 with 1 Axes>"
      ]
     },
     "metadata": {},
     "output_type": "display_data"
    }
   ],
   "source": [
    "labels = list(class_count.keys())\n",
    "counts = list(class_count.values())\n",
    "\n",
    "plt.figure(figsize=(8, 5))\n",
    "plt.bar(labels, counts, color=['red', 'blue', 'green', 'orange', 'purple'])\n",
    "\n",
    "\n",
    "plt.xlabel(\"Diagnosis Class\")\n",
    "plt.ylabel(\"Count\")\n",
    "plt.title(\"Distribution of Diagnosis Classes\")\n",
    "plt.xticks(labels)  \n",
    "\n",
    "\n",
    "plt.show()"
   ]
  }
 ],
 "metadata": {
  "kernelspec": {
   "display_name": "Python 3",
   "language": "python",
   "name": "python3"
  },
  "language_info": {
   "codemirror_mode": {
    "name": "ipython",
    "version": 3
   },
   "file_extension": ".py",
   "mimetype": "text/x-python",
   "name": "python",
   "nbconvert_exporter": "python",
   "pygments_lexer": "ipython3",
   "version": "3.12.4"
  }
 },
 "nbformat": 4,
 "nbformat_minor": 2
}
